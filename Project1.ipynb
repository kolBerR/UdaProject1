{
 "cells": [
  {
   "cell_type": "markdown",
   "id": "771cd7f2",
   "metadata": {},
   "source": [
    "# Business questions:\n",
    "A small-sized IT firm is seeking to prepare a list of desirable qualities for the programers it seeks to employ.\n",
    "A junior datascientist at the firm was tasked to look at the 2017 StackOverflow survey and try to identify factors which can help the firm in identifying potential recruits. \n",
    "\n",
    "The junior data scientist prepared the following business questions.\n",
    "\n",
    "1) Based on the survey result, what do programmers care most about?\n",
    "2) What is the role of pay and job security in programmers satisfaction with their current job?\n",
    "3) Overall, what explanatory variable relate to job satisfaction?"
   ]
  },
  {
   "cell_type": "markdown",
   "id": "0904e3d1",
   "metadata": {},
   "source": [
    "### How does parents' education related to success in the IT field"
   ]
  },
  {
   "cell_type": "code",
   "execution_count": 1,
   "id": "b132eb55",
   "metadata": {},
   "outputs": [
    {
     "name": "stderr",
     "output_type": "stream",
     "text": [
      "/home/fk/anaconda3/envs/myEnv/lib/python3.10/site-packages/scipy/__init__.py:146: UserWarning: A NumPy version >=1.16.5 and <1.23.0 is required for this version of SciPy (detected version 1.23.4\n",
      "  warnings.warn(f\"A NumPy version >={np_minversion} and <{np_maxversion}\"\n"
     ]
    }
   ],
   "source": [
    "import numpy as np\n",
    "import pandas as pd\n",
    "import matplotlib.pyplot as plt\n",
    "from collections import defaultdict\n",
    "from sklearn.linear_model import LinearRegression, LogisticRegression\n",
    "from sklearn.pipeline import make_pipeline\n",
    "from sklearn.preprocessing import StandardScaler\n",
    "from sklearn.model_selection import train_test_split\n",
    "from sklearn.metrics import r2_score, mean_squared_error\n",
    "import seaborn as sns\n",
    "%matplotlib inline\n",
    "\n",
    "df = pd.read_csv('./survey_results_public.csv')\n",
    "schema = pd.read_csv('./survey_results_schema.csv')"
   ]
  },
  {
   "cell_type": "markdown",
   "id": "ba3347dd",
   "metadata": {},
   "source": [
    "Below, we select only respondant who reported having actively coded before the survey"
   ]
  },
  {
   "cell_type": "code",
   "execution_count": 2,
   "id": "6d166020",
   "metadata": {},
   "outputs": [],
   "source": [
    "#remove columns with null values for the 'YearsCodedJob' column\n",
    "pr = df[~df['YearsCodedJob'].isna()]"
   ]
  },
  {
   "cell_type": "code",
   "execution_count": 3,
   "id": "d9bc64ed",
   "metadata": {},
   "outputs": [],
   "source": [
    "def get_description(column_name, schema=schema):\n",
    "    '''\n",
    "    INPUT - schema - pandas dataframe with the schema of the developers survey\n",
    "            column_name - string - the name of the column you would like to know about\n",
    "    OUTPUT - \n",
    "            desc - string - the description of the column\n",
    "    '''\n",
    "    desc = list(schema[schema['Column'] == column_name]['Question'])[0]\n",
    "    return desc"
   ]
  },
  {
   "cell_type": "markdown",
   "id": "254f55ff",
   "metadata": {},
   "source": [
    "The distribution of coding experience is tilted towards earlier years, with more than 40 percent of respondants\n",
    "having less than 5 years of experience in coding."
   ]
  },
  {
   "cell_type": "code",
   "execution_count": 4,
   "id": "9ea88f21",
   "metadata": {},
   "outputs": [
    {
     "data": {
      "text/plain": [
       "1 to 2 years        0.129347\n",
       "2 to 3 years        0.116581\n",
       "3 to 4 years        0.097897\n",
       "4 to 5 years        0.083272\n",
       "20 or more years    0.075006\n",
       "Less than a year    0.074199\n",
       "5 to 6 years        0.073123\n",
       "9 to 10 years       0.047836\n",
       "6 to 7 years        0.046760\n",
       "10 to 11 years      0.041037\n",
       "7 to 8 years        0.040059\n",
       "8 to 9 years        0.031475\n",
       "15 to 16 years      0.020665\n",
       "14 to 15 years      0.020543\n",
       "11 to 12 years      0.020494\n",
       "12 to 13 years      0.018122\n",
       "16 to 17 years      0.016972\n",
       "17 to 18 years      0.013328\n",
       "13 to 14 years      0.012986\n",
       "19 to 20 years      0.010443\n",
       "18 to 19 years      0.009856\n",
       "Name: YearsCodedJob, dtype: float64"
      ]
     },
     "execution_count": 4,
     "metadata": {},
     "output_type": "execute_result"
    }
   ],
   "source": [
    "pr['YearsCodedJob'].value_counts()/pr.shape[0]"
   ]
  },
  {
   "cell_type": "markdown",
   "id": "363efa54",
   "metadata": {},
   "source": [
    "This next part tries to assess what programers care most about? \n",
    "On relevant field is response to the WorkPayCare question "
   ]
  },
  {
   "cell_type": "code",
   "execution_count": 5,
   "id": "169e553e",
   "metadata": {},
   "outputs": [
    {
     "data": {
      "text/plain": [
       "\"I don't really care what I work on, so long as I'm paid well\""
      ]
     },
     "execution_count": 5,
     "metadata": {},
     "output_type": "execute_result"
    }
   ],
   "source": [
    "get_description('WorkPayCare')"
   ]
  },
  {
   "cell_type": "code",
   "execution_count": 6,
   "id": "4330ff57",
   "metadata": {},
   "outputs": [
    {
     "data": {
      "text/plain": [
       "Disagree             0.280876\n",
       "Strongly disagree    0.156004\n",
       "Somewhat agree       0.124407\n",
       "Agree                0.045023\n",
       "Strongly agree       0.015260\n",
       "Name: WorkPayCare, dtype: float64"
      ]
     },
     "execution_count": 6,
     "metadata": {},
     "output_type": "execute_result"
    }
   ],
   "source": [
    "#summary response to the 'WorkPayCare' question \n",
    "work_pay = pr['WorkPayCare'].value_counts()/pr.shape[0]\n",
    "work_pay"
   ]
  },
  {
   "cell_type": "markdown",
   "id": "b359813f",
   "metadata": {},
   "source": [
    "42 percent of respondents do not consider pay/salary the most important factor in their decision of what job to do"
   ]
  },
  {
   "cell_type": "markdown",
   "id": "4f355b02",
   "metadata": {},
   "source": [
    "Interestingly, those who care more about what type of job they do, on avarage earn a higher salary"
   ]
  },
  {
   "cell_type": "code",
   "execution_count": 7,
   "id": "bae0b4af",
   "metadata": {},
   "outputs": [
    {
     "data": {
      "text/plain": [
       "WorkPayCare\n",
       "Strongly agree       51249.450459\n",
       "Agree                53731.692491\n",
       "Strongly disagree    55829.330933\n",
       "Disagree             57558.868263\n",
       "Somewhat agree       57611.563635\n",
       "Name: Salary, dtype: float64"
      ]
     },
     "execution_count": 7,
     "metadata": {},
     "output_type": "execute_result"
    }
   ],
   "source": [
    "pr.groupby(['WorkPayCare']).mean(numeric_only=True)['Salary'].sort_values().dropna()"
   ]
  },
  {
   "cell_type": "markdown",
   "id": "fb03015b",
   "metadata": {},
   "source": [
    "In addition, those who care most about what type of job they do are shown to favor some level of remote work "
   ]
  },
  {
   "cell_type": "code",
   "execution_count": 8,
   "id": "c5576222",
   "metadata": {},
   "outputs": [
    {
     "data": {
      "text/html": [
       "<div>\n",
       "<style scoped>\n",
       "    .dataframe tbody tr th:only-of-type {\n",
       "        vertical-align: middle;\n",
       "    }\n",
       "\n",
       "    .dataframe tbody tr th {\n",
       "        vertical-align: top;\n",
       "    }\n",
       "\n",
       "    .dataframe thead th {\n",
       "        text-align: right;\n",
       "    }\n",
       "</style>\n",
       "<table border=\"1\" class=\"dataframe\">\n",
       "  <thead>\n",
       "    <tr style=\"text-align: right;\">\n",
       "      <th></th>\n",
       "      <th>JobSatisfaction</th>\n",
       "    </tr>\n",
       "    <tr>\n",
       "      <th>HomeRemote</th>\n",
       "      <th></th>\n",
       "    </tr>\n",
       "  </thead>\n",
       "  <tbody>\n",
       "    <tr>\n",
       "      <th>Never</th>\n",
       "      <td>6.763353</td>\n",
       "    </tr>\n",
       "    <tr>\n",
       "      <th>It's complicated</th>\n",
       "      <td>6.844697</td>\n",
       "    </tr>\n",
       "    <tr>\n",
       "      <th>More than half, but not all, the time</th>\n",
       "      <td>7.000000</td>\n",
       "    </tr>\n",
       "    <tr>\n",
       "      <th>About half the time</th>\n",
       "      <td>7.135135</td>\n",
       "    </tr>\n",
       "    <tr>\n",
       "      <th>A few days each month</th>\n",
       "      <td>7.149242</td>\n",
       "    </tr>\n",
       "    <tr>\n",
       "      <th>Less than half the time, but at least one day each week</th>\n",
       "      <td>7.155397</td>\n",
       "    </tr>\n",
       "    <tr>\n",
       "      <th>All or almost all the time (I'm full-time remote)</th>\n",
       "      <td>7.487844</td>\n",
       "    </tr>\n",
       "  </tbody>\n",
       "</table>\n",
       "</div>"
      ],
      "text/plain": [
       "                                                    JobSatisfaction\n",
       "HomeRemote                                                         \n",
       "Never                                                      6.763353\n",
       "It's complicated                                           6.844697\n",
       "More than half, but not all, the time                      7.000000\n",
       "About half the time                                        7.135135\n",
       "A few days each month                                      7.149242\n",
       "Less than half the time, but at least one day e...         7.155397\n",
       "All or almost all the time (I'm full-time remote)          7.487844"
      ]
     },
     "execution_count": 8,
     "metadata": {},
     "output_type": "execute_result"
    }
   ],
   "source": [
    "pd.DataFrame(pr.query(\"WorkPayCare == 'Strongly disagree' or WorkPayCare == 'Disagree'\").groupby(['HomeRemote']).mean(numeric_only=True)['JobSatisfaction']).sort_values(by='JobSatisfaction')"
   ]
  },
  {
   "cell_type": "markdown",
   "id": "a3f56b93",
   "metadata": {},
   "source": [
    "A look at both Job Satisfaction and Career Satisfaction seems to exhibit a right skewed distribution, with most\n",
    "respondents expressing happiness with their current job and career path. The sentiment about career path is in \n",
    "particular interesting since more than 40 percent of respondents have less than 5 years of coding experience"
   ]
  },
  {
   "cell_type": "code",
   "execution_count": 9,
   "id": "e50b45f0",
   "metadata": {},
   "outputs": [
    {
     "data": {
      "image/png": "[encoded data removed]",
      "text/plain": [
       "<Figure size 640x480 with 1 Axes>"
      ]
     },
     "metadata": {},
     "output_type": "display_data"
    }
   ],
   "source": [
    "pr['JobSatisfaction'].hist();"
   ]
  },
  {
   "cell_type": "code",
   "execution_count": 10,
   "id": "dba523ba",
   "metadata": {},
   "outputs": [
    {
     "data": {
      "image/png": "[encoded data removed]",
      "text/plain": [
       "<Figure size 640x480 with 1 Axes>"
      ]
     },
     "metadata": {},
     "output_type": "display_data"
    }
   ],
   "source": [
    "pr['CareerSatisfaction'].hist();"
   ]
  },
  {
   "cell_type": "code",
   "execution_count": 11,
   "id": "876753e5",
   "metadata": {},
   "outputs": [
    {
     "data": {
      "text/plain": [
       "'Job security is important to me'"
      ]
     },
     "execution_count": 11,
     "metadata": {},
     "output_type": "execute_result"
    }
   ],
   "source": [
    "#The following question on job security was posed to respondents\n",
    "get_description('JobSecurity')"
   ]
  },
  {
   "cell_type": "code",
   "execution_count": 12,
   "id": "2e242ca8",
   "metadata": {},
   "outputs": [
    {
     "data": {
      "text/plain": [
       "Agree                0.262411\n",
       "Somewhat agree       0.157178\n",
       "Strongly agree       0.145757\n",
       "Disagree             0.050012\n",
       "Strongly disagree    0.011470\n",
       "Name: JobSecurity, dtype: float64"
      ]
     },
     "execution_count": 12,
     "metadata": {},
     "output_type": "execute_result"
    }
   ],
   "source": [
    "#55 percent agree on the importance of job security\n",
    "pr['JobSecurity'].value_counts()/pr.shape[0]"
   ]
  },
  {
   "cell_type": "markdown",
   "id": "5866641d",
   "metadata": {},
   "source": [
    "Overall, it appears, respondents care more about landing a desirable and secure job "
   ]
  },
  {
   "cell_type": "markdown",
   "id": "3467f02d",
   "metadata": {},
   "source": [
    "#### Does job/career satisfaciton relate with other variables in a cause and effect"
   ]
  },
  {
   "cell_type": "markdown",
   "id": "45278c76",
   "metadata": {},
   "source": [
    "#### What determines career satisfaction among respondents?"
   ]
  },
  {
   "cell_type": "markdown",
   "id": "07d85048",
   "metadata": {},
   "source": [
    "Below, we select 'JobSatisfaction' as the dependent variable and prepare to use a regression to assess the explanatory power of other responses. We start by cleaning the data."
   ]
  },
  {
   "cell_type": "code",
   "execution_count": 13,
   "id": "6555fb37",
   "metadata": {},
   "outputs": [],
   "source": [
    "def clean_data(df):\n",
    "    '''\n",
    "    INPUT\n",
    "    df - pandas dataframe \n",
    "    \n",
    "    OUTPUT\n",
    "    X - A matrix holding all of the variables you want to consider when predicting the response\n",
    "    y - the corresponding response vector\n",
    "    \n",
    "    This function cleans df using the following steps to produce X and y:\n",
    "    1. Drop all the rows with no salaries\n",
    "    2. Create X as all the columns that are not the Salary column\n",
    "    3. Create y as the Salary column\n",
    "    4. Drop the Salary, Respondent, and the ExpectedSalary columns from X\n",
    "    5. For each numeric variable in X, fill the column with the mean value of the column.\n",
    "    6. Create dummy columns for all the categorical variables in X, drop the original columns\n",
    "    '''\n",
    "    # Drop rows with missing salary values\n",
    "    df = df.dropna(subset=['JobSatisfaction'], axis=0)\n",
    "    y = df['JobSatisfaction']\n",
    "    \n",
    "    #Drop respondent and expected salary columns\n",
    "    df = df.drop(['Respondent', 'ExpectedSalary', 'JobSatisfaction'], axis=1)\n",
    "    \n",
    "    # Fill numeric columns with the mean\n",
    "    num_vars = df.select_dtypes(include=['float', 'int']).columns\n",
    "    for col in num_vars:\n",
    "        df[col].fillna((df[col].mean()), inplace=True)\n",
    "        \n",
    "    # Dummy the categorical variables\n",
    "    cat_vars = df.select_dtypes(include=['object']).copy().columns\n",
    "    for var in  cat_vars:\n",
    "        # for each cat add dummy var, drop original column\n",
    "        df = pd.concat([df.drop(var, axis=1), pd.get_dummies(df[var], prefix=var, prefix_sep='_', drop_first=True)], axis=1)\n",
    "    \n",
    "    X = df\n",
    "    return X, y\n",
    "    \n",
    "#Use the function to create X and y\n",
    "X, y = clean_data(df) "
   ]
  },
  {
   "cell_type": "markdown",
   "id": "cd09a872",
   "metadata": {},
   "source": [
    "Since missing values affect the outcome of the regression, we want to use various scenarios of missing value levels in the regression. The following function yields the optimal output for selected cuttoff points of missing value levels. "
   ]
  },
  {
   "cell_type": "code",
   "execution_count": 14,
   "id": "b3517e56",
   "metadata": {},
   "outputs": [],
   "source": [
    "def find_optimal_lm_mod(X, y, cutoffs, test_size = .30, random_state=42, plot=True):\n",
    "    '''\n",
    "    INPUT\n",
    "    X - pandas dataframe, X matrix\n",
    "    y - pandas dataframe, response variable\n",
    "    cutoffs - list of ints, cutoff for number of non-zero values in dummy categorical vars\n",
    "    test_size - float between 0 and 1, default 0.3, determines the proportion of data as test data\n",
    "    random_state - int, default 42, controls random state for train_test_split\n",
    "    plot - boolean, default 0.3, True to plot result\n",
    "\n",
    "    OUTPUT\n",
    "    r2_scores_test - list of floats of r2 scores on the test data\n",
    "    r2_scores_train - list of floats of r2 scores on the train data\n",
    "    lm_model - model object from sklearn\n",
    "    X_train, X_test, y_train, y_test - output from sklearn train test split used for optimal model\n",
    "    '''\n",
    "    r2_scores_test, r2_scores_train, num_feats, results = [], [], [], dict()\n",
    "    for cutoff in cutoffs:\n",
    "\n",
    "        #reduce X matrix\n",
    "        reduce_X = X.iloc[:, np.where((X.sum() > cutoff) == True)[0]]\n",
    "        num_feats.append(reduce_X.shape[1])\n",
    "\n",
    "        #split the data into train and test\n",
    "        X_train, X_test, y_train, y_test = train_test_split(reduce_X, y, test_size = test_size, random_state=random_state)\n",
    "\n",
    "        #fit the model and obtain pred response\n",
    "        lm_model = make_pipeline(StandardScaler(with_mean=False), LinearRegression())\n",
    "        lm_model.fit(X_train, y_train)\n",
    "        y_test_preds = lm_model.predict(X_test)\n",
    "        y_train_preds = lm_model.predict(X_train)\n",
    "\n",
    "        #append the r2 value from the test set\n",
    "        r2_scores_test.append(r2_score(y_test, y_test_preds))\n",
    "        r2_scores_train.append(r2_score(y_train, y_train_preds))\n",
    "        results[str(cutoff)] = r2_score(y_test, y_test_preds)\n",
    "\n",
    "    if plot:\n",
    "        plt.plot(num_feats, r2_scores_test, label=\"Test\", alpha=.5)\n",
    "        plt.plot(num_feats, r2_scores_train, label=\"Train\", alpha=.5)\n",
    "        plt.xlabel('Number of Features')\n",
    "        plt.ylabel('Rsquared')\n",
    "        plt.title('Rsquared by Number of Features')\n",
    "        plt.legend(loc=1)\n",
    "        plt.show()\n",
    "\n",
    "    best_cutoff = max(results, key=results.get)\n",
    "\n",
    "    #reduce X matrix\n",
    "    reduce_X = X.iloc[:, np.where((X.sum() > int(best_cutoff)) == True)[0]]\n",
    "    num_feats.append(reduce_X.shape[1])\n",
    "\n",
    "    #split the data into train and test\n",
    "    X_train, X_test, y_train, y_test = train_test_split(reduce_X, y, test_size = test_size, random_state=random_state)\n",
    "\n",
    "    #fit the model\n",
    "    lm_model = make_pipeline(StandardScaler(with_mean=False), LinearRegression())\n",
    "    lm_model.fit(X_train, y_train)\n",
    "\n",
    "    return r2_scores_test, r2_scores_train, lm_model, X_train, X_test, y_train, y_test"
   ]
  },
  {
   "cell_type": "code",
   "execution_count": 15,
   "id": "babf3c35",
   "metadata": {},
   "outputs": [
    {
     "data": {
      "image/png": "[encoded data removed]",
      "text/plain": [
       "<Figure size 640x480 with 1 Axes>"
      ]
     },
     "metadata": {},
     "output_type": "display_data"
    }
   ],
   "source": [
    "#cutoffs here pertains to the number of missing values allowed in the used columns.\n",
    "#Therefore, lower values for the cutoff provides more predictors in the model.\n",
    "cutoffs = [5000, 3500, 2500, 1000, 100, 50, 30, 25]\n",
    "\n",
    "r2_scores_test, r2_scores_train, lm_model, X_train, X_test, y_train, y_test = find_optimal_lm_mod(X, y, cutoffs)"
   ]
  },
  {
   "cell_type": "markdown",
   "id": "26734ec6",
   "metadata": {},
   "source": [
    "The model records a maximum r-squared of 54 percent for about 2500 explanatory variables. This shows job satisfaction is not explained by the other responses provided.\n",
    "The divergence in the r-squared result for the train and test data further reveals the weakness of the model."
   ]
  },
  {
   "cell_type": "code",
   "execution_count": 16,
   "id": "933f13f1",
   "metadata": {},
   "outputs": [
    {
     "name": "stdout",
     "output_type": "stream",
     "text": [
      "454\n",
      "0.47342301105184503\n",
      "0.5058496071010484\n"
     ]
    }
   ],
   "source": [
    "print(X_train.shape[1]) #Number of columns\n",
    "print(r2_scores_test[np.argmax(r2_scores_test)]) # The model we should implement test_r2\n",
    "print(r2_scores_train[np.argmax(r2_scores_test)]) # The model we should implement train_r2"
   ]
  },
  {
   "cell_type": "code",
   "execution_count": 18,
   "id": "d39abcb2",
   "metadata": {},
   "outputs": [],
   "source": [
    "# retrieve model coefficients\n",
    "model_coef = lm_model.named_steps['linearregression'].coef_"
   ]
  },
  {
   "cell_type": "markdown",
   "id": "d2092e35",
   "metadata": {},
   "source": [
    "helper function to extract the coefficient of the model"
   ]
  },
  {
   "cell_type": "code",
   "execution_count": 19,
   "id": "454ef89d",
   "metadata": {},
   "outputs": [],
   "source": [
    "def coef_weights(coefficients, X_train):\n",
    "    '''\n",
    "    INPUT:\n",
    "    coefficients - the coefficients of the linear model \n",
    "    X_train - the training data, so the column names can be used\n",
    "    OUTPUT:\n",
    "    coefs_df - a dataframe holding the coefficient, estimate, and abs(estimate)\n",
    "    \n",
    "    Provides a dataframe that can be used to understand the most influential coefficients\n",
    "    in a linear model by providing the coefficient estimates along with the name of the \n",
    "    variable attached to the coefficient.\n",
    "    '''\n",
    "    coefs_df = pd.DataFrame()\n",
    "    coefs_df['est_int'] = X_train.columns\n",
    "    coefs_df['coefs'] = model_coef\n",
    "    coefs_df['abs_coefs'] = np.abs(model_coef)\n",
    "    coefs_df = coefs_df.sort_values('abs_coefs', ascending=False)\n",
    "    return coefs_df\n"
   ]
  },
  {
   "cell_type": "code",
   "execution_count": 20,
   "id": "e7ecf736",
   "metadata": {},
   "outputs": [],
   "source": [
    "#Use the function\n",
    "coef_df = coef_weights(model_coef, X_train)"
   ]
  },
  {
   "cell_type": "code",
   "execution_count": 21,
   "id": "3c164c51",
   "metadata": {},
   "outputs": [
    {
     "data": {
      "text/html": [
       "<div>\n",
       "<style scoped>\n",
       "    .dataframe tbody tr th:only-of-type {\n",
       "        vertical-align: middle;\n",
       "    }\n",
       "\n",
       "    .dataframe tbody tr th {\n",
       "        vertical-align: top;\n",
       "    }\n",
       "\n",
       "    .dataframe thead th {\n",
       "        text-align: right;\n",
       "    }\n",
       "</style>\n",
       "<table border=\"1\" class=\"dataframe\">\n",
       "  <thead>\n",
       "    <tr style=\"text-align: right;\">\n",
       "      <th></th>\n",
       "      <th>est_int</th>\n",
       "      <th>coefs</th>\n",
       "      <th>abs_coefs</th>\n",
       "    </tr>\n",
       "  </thead>\n",
       "  <tbody>\n",
       "    <tr>\n",
       "      <th>0</th>\n",
       "      <td>CareerSatisfaction</td>\n",
       "      <td>1.254240</td>\n",
       "      <td>1.254240</td>\n",
       "    </tr>\n",
       "    <tr>\n",
       "      <th>140</th>\n",
       "      <td>JobSeekingStatus_I am not interested in new jo...</td>\n",
       "      <td>0.356633</td>\n",
       "      <td>0.356633</td>\n",
       "    </tr>\n",
       "    <tr>\n",
       "      <th>141</th>\n",
       "      <td>JobSeekingStatus_I'm not actively looking, but...</td>\n",
       "      <td>0.319008</td>\n",
       "      <td>0.319008</td>\n",
       "    </tr>\n",
       "    <tr>\n",
       "      <th>396</th>\n",
       "      <td>StackOverflowJobSearch_Haven't done at all</td>\n",
       "      <td>0.230255</td>\n",
       "      <td>0.230255</td>\n",
       "    </tr>\n",
       "    <tr>\n",
       "      <th>236</th>\n",
       "      <td>Overpaid_Greatly underpaid</td>\n",
       "      <td>-0.142783</td>\n",
       "      <td>0.142783</td>\n",
       "    </tr>\n",
       "    <tr>\n",
       "      <th>144</th>\n",
       "      <td>LastNewJob_More than 4 years ago</td>\n",
       "      <td>-0.131846</td>\n",
       "      <td>0.131846</td>\n",
       "    </tr>\n",
       "    <tr>\n",
       "      <th>142</th>\n",
       "      <td>LastNewJob_Between 2 and 4 years ago</td>\n",
       "      <td>-0.105415</td>\n",
       "      <td>0.105415</td>\n",
       "    </tr>\n",
       "    <tr>\n",
       "      <th>334</th>\n",
       "      <td>EquipmentSatisfiedRW_Very satisfied</td>\n",
       "      <td>0.079906</td>\n",
       "      <td>0.079906</td>\n",
       "    </tr>\n",
       "    <tr>\n",
       "      <th>338</th>\n",
       "      <td>InfluenceInternet_Very satisfied</td>\n",
       "      <td>0.079262</td>\n",
       "      <td>0.079262</td>\n",
       "    </tr>\n",
       "    <tr>\n",
       "      <th>324</th>\n",
       "      <td>EquipmentSatisfiedRAM_Satisfied</td>\n",
       "      <td>-0.073663</td>\n",
       "      <td>0.073663</td>\n",
       "    </tr>\n",
       "    <tr>\n",
       "      <th>176</th>\n",
       "      <td>AssessJobProfDevel_Very important</td>\n",
       "      <td>-0.072398</td>\n",
       "      <td>0.072398</td>\n",
       "    </tr>\n",
       "    <tr>\n",
       "      <th>332</th>\n",
       "      <td>EquipmentSatisfiedRW_Satisfied</td>\n",
       "      <td>0.069690</td>\n",
       "      <td>0.069690</td>\n",
       "    </tr>\n",
       "    <tr>\n",
       "      <th>192</th>\n",
       "      <td>ResumePrompted_I received bad news about the f...</td>\n",
       "      <td>-0.068946</td>\n",
       "      <td>0.068946</td>\n",
       "    </tr>\n",
       "    <tr>\n",
       "      <th>325</th>\n",
       "      <td>EquipmentSatisfiedRAM_Somewhat satisfied</td>\n",
       "      <td>-0.067352</td>\n",
       "      <td>0.067352</td>\n",
       "    </tr>\n",
       "    <tr>\n",
       "      <th>11</th>\n",
       "      <td>Country_India</td>\n",
       "      <td>-0.065291</td>\n",
       "      <td>0.065291</td>\n",
       "    </tr>\n",
       "    <tr>\n",
       "      <th>397</th>\n",
       "      <td>StackOverflowJobSearch_Once or twice</td>\n",
       "      <td>0.065252</td>\n",
       "      <td>0.065252</td>\n",
       "    </tr>\n",
       "    <tr>\n",
       "      <th>323</th>\n",
       "      <td>EquipmentSatisfiedRAM_Not very satisfied</td>\n",
       "      <td>-0.065184</td>\n",
       "      <td>0.065184</td>\n",
       "    </tr>\n",
       "    <tr>\n",
       "      <th>238</th>\n",
       "      <td>Overpaid_Somewhat underpaid</td>\n",
       "      <td>-0.063059</td>\n",
       "      <td>0.063059</td>\n",
       "    </tr>\n",
       "    <tr>\n",
       "      <th>326</th>\n",
       "      <td>EquipmentSatisfiedRAM_Very satisfied</td>\n",
       "      <td>-0.062571</td>\n",
       "      <td>0.062571</td>\n",
       "    </tr>\n",
       "    <tr>\n",
       "      <th>15</th>\n",
       "      <td>University_No</td>\n",
       "      <td>0.061682</td>\n",
       "      <td>0.061682</td>\n",
       "    </tr>\n",
       "  </tbody>\n",
       "</table>\n",
       "</div>"
      ],
      "text/plain": [
       "                                               est_int     coefs  abs_coefs\n",
       "0                                   CareerSatisfaction  1.254240   1.254240\n",
       "140  JobSeekingStatus_I am not interested in new jo...  0.356633   0.356633\n",
       "141  JobSeekingStatus_I'm not actively looking, but...  0.319008   0.319008\n",
       "396         StackOverflowJobSearch_Haven't done at all  0.230255   0.230255\n",
       "236                         Overpaid_Greatly underpaid -0.142783   0.142783\n",
       "144                   LastNewJob_More than 4 years ago -0.131846   0.131846\n",
       "142               LastNewJob_Between 2 and 4 years ago -0.105415   0.105415\n",
       "334                EquipmentSatisfiedRW_Very satisfied  0.079906   0.079906\n",
       "338                   InfluenceInternet_Very satisfied  0.079262   0.079262\n",
       "324                    EquipmentSatisfiedRAM_Satisfied -0.073663   0.073663\n",
       "176                  AssessJobProfDevel_Very important -0.072398   0.072398\n",
       "332                     EquipmentSatisfiedRW_Satisfied  0.069690   0.069690\n",
       "192  ResumePrompted_I received bad news about the f... -0.068946   0.068946\n",
       "325           EquipmentSatisfiedRAM_Somewhat satisfied -0.067352   0.067352\n",
       "11                                       Country_India -0.065291   0.065291\n",
       "397               StackOverflowJobSearch_Once or twice  0.065252   0.065252\n",
       "323           EquipmentSatisfiedRAM_Not very satisfied -0.065184   0.065184\n",
       "238                        Overpaid_Somewhat underpaid -0.063059   0.063059\n",
       "326               EquipmentSatisfiedRAM_Very satisfied -0.062571   0.062571\n",
       "15                                       University_No  0.061682   0.061682"
      ]
     },
     "execution_count": 21,
     "metadata": {},
     "output_type": "execute_result"
    }
   ],
   "source": [
    "#A quick look at the top results\n",
    "coef_df.head(20)"
   ]
  },
  {
   "cell_type": "markdown",
   "id": "014c1d7b",
   "metadata": {},
   "source": [
    "While the overall explanatory power of the model is poor, we can see from the top 20 coefficients that some variable show strong relationship with job satisfaction.Not surprisingly, those express higher career satisfaction are likely to have higher satisfaction at their current job. It is also reasonable to hear people expressing disinterest in new jobs when they already have higher job satisfaction.\n",
    "\n",
    "A small-sized firm trying to locate talent would find the above finding challenging.\n",
    "\n",
    "People who feel underpaid in their current job expressing job dissatisfaction is understandable."
   ]
  },
  {
   "cell_type": "markdown",
   "id": "99c72093",
   "metadata": {},
   "source": [
    "#### Next, we fit logistic regression to the data since"
   ]
  },
  {
   "cell_type": "markdown",
   "id": "1c7ec57f",
   "metadata": {},
   "source": [
    "Job satifaction is effectively a categorical variable since the range for the values is from 1-10 only.\n",
    "Below, we modify the function used to find an optimal set of coefficients to specify the logistic regression algorithm as the model"
   ]
  },
  {
   "cell_type": "code",
   "execution_count": 22,
   "id": "ad82ba7f",
   "metadata": {},
   "outputs": [],
   "source": [
    "def find_optimal_lo_mod(X, y, cutoffs, test_size = .30, random_state=42, plot=True):\n",
    "    '''\n",
    "    INPUT\n",
    "    X - pandas dataframe, X matrix\n",
    "    y - pandas dataframe, response variable\n",
    "    cutoffs - list of ints, cutoff for number of non-zero values in dummy categorical vars\n",
    "    test_size - float between 0 and 1, default 0.3, determines the proportion of data as test data\n",
    "    random_state - int, default 42, controls random state for train_test_split\n",
    "    plot - boolean, default 0.3, True to plot result\n",
    "\n",
    "    OUTPUT\n",
    "    r2_scores_test - list of floats of r2 scores on the test data\n",
    "    r2_scores_train - list of floats of r2 scores on the train data\n",
    "    lm_model - model object from sklearn\n",
    "    X_train, X_test, y_train, y_test - output from sklearn train test split used for optimal model\n",
    "    '''\n",
    "    r2_scores_test, r2_scores_train, num_feats, results = [], [], [], dict()\n",
    "    for cutoff in cutoffs:\n",
    "\n",
    "        #reduce X matrix\n",
    "        reduce_X = X.iloc[:, np.where((X.sum() > cutoff) == True)[0]]\n",
    "        num_feats.append(reduce_X.shape[1])\n",
    "\n",
    "        #split the data into train and test\n",
    "        X_train, X_test, y_train, y_test = train_test_split(reduce_X, y, test_size = test_size, random_state=random_state)\n",
    "\n",
    "        #fit the model and obtain pred response\n",
    "        lo_model = make_pipeline(StandardScaler(), LogisticRegression(solver='liblinear'))\n",
    "        lo_model.fit(X_train, y_train)\n",
    "        y_test_preds = lo_model.predict(X_test)\n",
    "        y_train_preds = lo_model.predict(X_train)\n",
    "\n",
    "        #append the r2 value from the test set\n",
    "        r2_scores_test.append(r2_score(y_test, y_test_preds))\n",
    "        r2_scores_train.append(r2_score(y_train, y_train_preds))\n",
    "        results[str(cutoff)] = r2_score(y_test, y_test_preds)\n",
    "\n",
    "    if plot:\n",
    "        plt.plot(num_feats, r2_scores_test, label=\"Test\", alpha=.5)\n",
    "        plt.plot(num_feats, r2_scores_train, label=\"Train\", alpha=.5)\n",
    "        plt.xlabel('Number of Features')\n",
    "        plt.ylabel('Rsquared')\n",
    "        plt.title('Rsquared by Number of Features')\n",
    "        plt.legend(loc=1)\n",
    "        plt.show()\n",
    "\n",
    "    best_cutoff = max(results, key=results.get)\n",
    "\n",
    "    #reduce X matrix\n",
    "    reduce_X = X.iloc[:, np.where((X.sum() > int(best_cutoff)) == True)[0]]\n",
    "    num_feats.append(reduce_X.shape[1])\n",
    "\n",
    "    #split the data into train and test\n",
    "    X_train, X_test, y_train, y_test = train_test_split(reduce_X, y, test_size = test_size, random_state=random_state)\n",
    "\n",
    "    #fit the model\n",
    "    lo_model = make_pipeline(StandardScaler(), LogisticRegression(solver='liblinear'))\n",
    "    lo_model.fit(X_train, y_train)\n",
    "\n",
    "    return r2_scores_test, r2_scores_train, lo_model, X_train, X_test, y_train, y_test"
   ]
  },
  {
   "cell_type": "markdown",
   "id": "e30fe761",
   "metadata": {},
   "source": [
    "Next, we run the model, with similar scenarios of for selecting missing value levels"
   ]
  },
  {
   "cell_type": "code",
   "execution_count": 23,
   "id": "8e2a8cb5",
   "metadata": {},
   "outputs": [
    {
     "data": {
      "image/png": "[encoded data removed]",
      "text/plain": [
       "<Figure size 640x480 with 1 Axes>"
      ]
     },
     "metadata": {},
     "output_type": "display_data"
    }
   ],
   "source": [
    "#cutoffs here pertains to the number of missing values allowed in the used columns.\n",
    "#Therefore, lower values for the cutoff provides more predictors in the model.\n",
    "cutoffs = [5000, 3500, 2500, 1000, 100, 50, 30, 25]\n",
    "\n",
    "r2_scores_test_l, r2_scores_train_l, lo_model, X_train_l, X_test_l, y_train_l, y_test_l = find_optimal_lo_mod(X, y, cutoffs)"
   ]
  },
  {
   "cell_type": "markdown",
   "id": "64081fda",
   "metadata": {},
   "source": [
    "The overall result is weaker than the linear regression model. It appears, the model tends to show a slight improvement on the training data. But its capacity to predict based on unseen data is worse than the linear regression model."
   ]
  },
  {
   "cell_type": "code",
   "execution_count": 24,
   "id": "4fbee1d6",
   "metadata": {},
   "outputs": [
    {
     "name": "stdout",
     "output_type": "stream",
     "text": [
      "175\n",
      "0.23040938291984858\n",
      "0.25253750343898895\n"
     ]
    }
   ],
   "source": [
    "print(X_train_l.shape[1]) #Number of columns\n",
    "print(r2_scores_test_l[np.argmax(r2_scores_test_l)]) # The model we should implement test_r2\n",
    "print(r2_scores_train_l[np.argmax(r2_scores_test_l)]) # The model we should implement train_r2"
   ]
  },
  {
   "cell_type": "code",
   "execution_count": 25,
   "id": "5978837a",
   "metadata": {},
   "outputs": [],
   "source": [
    "lo_coef = lo_model.named_steps['logisticregression'].coef_"
   ]
  },
  {
   "cell_type": "code",
   "execution_count": 26,
   "id": "ee41df79",
   "metadata": {},
   "outputs": [],
   "source": [
    "def coef_weights_lo(coefficients, X_train_l):\n",
    "    '''\n",
    "    INPUT:\n",
    "    coefficients - the coefficients of the linear model \n",
    "    X_train - the training data, so the column names can be used\n",
    "    OUTPUT:\n",
    "    coefs_df - a dataframe holding the coefficient, estimate, and abs(estimate)\n",
    "    \n",
    "    Provides a dataframe that can be used to understand the most influential coefficients\n",
    "    in a linear model by providing the coefficient estimates along with the name of the \n",
    "    variable attached to the coefficient.\n",
    "    '''\n",
    "    coefs_df = pd.DataFrame()\n",
    "    coefs_df['est_int'] = X_train_l.columns\n",
    "    coefs_df['coefs'] = lo_coef\n",
    "    coefs_df['abs_coefs'] = np.abs(lo_coef)\n",
    "    coefs_df = coefs_df.sort_values('abs_coefs', ascending=False)\n",
    "    return coefs_df"
   ]
  },
  {
   "cell_type": "code",
   "execution_count": null,
   "id": "e1d7ae20",
   "metadata": {},
   "outputs": [],
   "source": []
  },
  {
   "cell_type": "code",
   "execution_count": null,
   "id": "5537c0c7",
   "metadata": {},
   "outputs": [],
   "source": []
  },
  {
   "cell_type": "code",
   "execution_count": null,
   "id": "1741c767",
   "metadata": {},
   "outputs": [],
   "source": []
  }
 ],
 "metadata": {
  "kernelspec": {
   "display_name": "Python 3 (ipykernel)",
   "language": "python",
   "name": "python3"
  },
  "language_info": {
   "codemirror_mode": {
    "name": "ipython",
    "version": 3
   },
   "file_extension": ".py",
   "mimetype": "text/x-python",
   "name": "python",
   "nbconvert_exporter": "python",
   "pygments_lexer": "ipython3",
   "version": "3.10.8"
  }
 },
 "nbformat": 4,
 "nbformat_minor": 5
}
